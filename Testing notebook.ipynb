{
 "cells": [
  {
   "cell_type": "code",
   "execution_count": 158,
   "id": "40f5b9e7",
   "metadata": {
    "scrolled": false
   },
   "outputs": [
    {
     "data": {
      "image/png": "[encoded data removed]",
      "text/plain": [
       "<PIL.Image.Image image mode=RGB size=320x172 at 0x1E6678A77C0>"
      ]
     },
     "metadata": {},
     "output_type": "display_data"
    }
   ],
   "source": [
    "from PIL import Image, ImageDraw, ImageFont\n",
    "import PIL.ImageOps \n",
    "import time\n",
    "\n",
    "# Create blank image for drawing.\n",
    "black= Image.new(\"RGB\", (320, 172), \"black\")\n",
    "\n",
    "batt_percentage = 1 # Number between \n",
    "\n",
    "batt_status = Image.open(\"emptybatterystatus_white.png\")\n",
    "\n",
    "# batt_status = batt_status.rotate(180)\n",
    "draw = ImageDraw.Draw(batt_status)\n",
    "\n",
    "if batt_percentage <=0.20:\n",
    "    batt_fill = \"RED\"\n",
    "elif 0.20 < batt_percentage <=0.60:\n",
    "    batt_fill = \"#ffe14a\" #yellow\n",
    "else: \n",
    "    batt_fill = \"#04de1a\" #green\n",
    "\n",
    "draw.rounded_rectangle([(42,92),(42+(153*batt_percentage) ,170)],8,fill = batt_fill)\n",
    "draw.text((105, 100),str(batt_percentage*100)+\"%\", fill = \"BLUE\")\n",
    "batt_scale_factor=1\n",
    "resized_batt_status = batt_status.resize((int(batt_status.size[0]*batt_scale_factor),int(batt_status.size[1]*batt_scale_factor)))\n",
    "black.paste(resized_batt_status,(40,-50),resized_batt_status.convert('RGBA'))\n",
    "\n",
    "display(black)"
   ]
  },
  {
   "cell_type": "markdown",
   "id": "0e2f54cf",
   "metadata": {},
   "source": [
    "## batt_status.size[0]"
   ]
  },
  {
   "cell_type": "code",
   "execution_count": null,
   "id": "3c92eb6f",
   "metadata": {},
   "outputs": [],
   "source": []
  }
 ],
 "metadata": {
  "kernelspec": {
   "display_name": "Python 3 (ipykernel)",
   "language": "python",
   "name": "python3"
  },
  "language_info": {
   "codemirror_mode": {
    "name": "ipython",
    "version": 3
   },
   "file_extension": ".py",
   "mimetype": "text/x-python",
   "name": "python",
   "nbconvert_exporter": "python",
   "pygments_lexer": "ipython3",
   "version": "3.9.7"
  }
 },
 "nbformat": 4,
 "nbformat_minor": 5
}
